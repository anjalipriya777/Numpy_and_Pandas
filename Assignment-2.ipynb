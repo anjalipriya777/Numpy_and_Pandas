{
 "cells": [
  {
   "cell_type": "markdown",
   "id": "84b5c50c-6fcd-4802-8c1f-37878f03bb91",
   "metadata": {},
   "source": [
    "## Numpy"
   ]
  },
  {
   "cell_type": "code",
   "execution_count": 1,
   "id": "e97b17c8-6371-4f4f-b4d9-3e97825d3e59",
   "metadata": {},
   "outputs": [],
   "source": [
    "import numpy as np\n",
    "from numpy import linalg as la"
   ]
  },
  {
   "cell_type": "code",
   "execution_count": 2,
   "id": "86cb22a5-9ee0-4615-bc86-1f707cbbc4a1",
   "metadata": {},
   "outputs": [],
   "source": [
    "#Defining 5 different dimension matrices\n",
    "a1=np.array([1,2])\n",
    "a2=np.array([[3,4],[5,6]])\n",
    "a3=np.array([[[9,7],[2,3]]])\n",
    "a4=np.array([[[[2,5],[9,8]]]])\n",
    "a5=np.array([[[[[6,4],[2,5]]]]])"
   ]
  },
  {
   "cell_type": "code",
   "execution_count": 3,
   "id": "d1e6435b-e203-4c8a-b816-0ebee2512f92",
   "metadata": {},
   "outputs": [
    {
     "name": "stdout",
     "output_type": "stream",
     "text": [
      "[1 2]\n",
      "[[3 4]\n",
      " [5 6]]\n",
      "[[[9 7]\n",
      "  [2 3]]]\n",
      "[[[[2 5]\n",
      "   [9 8]]]]\n",
      "[[[[[6 4]\n",
      "    [2 5]]]]]\n"
     ]
    }
   ],
   "source": [
    "print(a1)\n",
    "print(a2)\n",
    "print(a3)\n",
    "print(a4)\n",
    "print(a5)"
   ]
  },
  {
   "cell_type": "code",
   "execution_count": 5,
   "id": "57b0afb3-9da6-4518-b059-594eaefcf922",
   "metadata": {},
   "outputs": [],
   "source": [
    "#Determinant of 1d matrix\n",
    "#print(la.det(a1))"
   ]
  },
  {
   "cell_type": "code",
   "execution_count": 6,
   "id": "b0d121f4-1d4d-4506-86ac-c61b8170addd",
   "metadata": {},
   "outputs": [
    {
     "name": "stdout",
     "output_type": "stream",
     "text": [
      "-1.9999999999999971\n"
     ]
    }
   ],
   "source": [
    "#Determinant of 2d matrix\n",
    "print(la.det(a2))"
   ]
  },
  {
   "cell_type": "code",
   "execution_count": 7,
   "id": "7b620ec0-8059-4a01-a265-c0e0b692d28c",
   "metadata": {},
   "outputs": [
    {
     "name": "stdout",
     "output_type": "stream",
     "text": [
      "[13.]\n"
     ]
    }
   ],
   "source": [
    "#Determinant of 3d matrix\n",
    "print(la.det(a3))"
   ]
  },
  {
   "cell_type": "code",
   "execution_count": 8,
   "id": "ca7be5e6-0116-4c1e-afae-5050a7431c8e",
   "metadata": {},
   "outputs": [
    {
     "name": "stdout",
     "output_type": "stream",
     "text": [
      "[[-29.]]\n"
     ]
    }
   ],
   "source": [
    "#Determinant of 4d matrix\n",
    "print(la.det(a4))"
   ]
  },
  {
   "cell_type": "code",
   "execution_count": 9,
   "id": "9695ad9a-e9a9-4597-8267-ef802880f475",
   "metadata": {},
   "outputs": [
    {
     "name": "stdout",
     "output_type": "stream",
     "text": [
      "[[[22.]]]\n"
     ]
    }
   ],
   "source": [
    "#Determinant of 5d matrix\n",
    "print(la.det(a5))"
   ]
  },
  {
   "cell_type": "code",
   "execution_count": 10,
   "id": "695fa56a-637e-4c9d-a0f2-31b913b21912",
   "metadata": {},
   "outputs": [],
   "source": [
    "#Inverse of 1d\n",
    "#print(la.inv(a1))"
   ]
  },
  {
   "cell_type": "code",
   "execution_count": 11,
   "id": "6d56231b-2d94-43ad-80cb-27df02b00b6c",
   "metadata": {},
   "outputs": [
    {
     "name": "stdout",
     "output_type": "stream",
     "text": [
      "[[-3.   2. ]\n",
      " [ 2.5 -1.5]]\n"
     ]
    }
   ],
   "source": [
    "#inverse of 2d\n",
    "print(la.inv(a2))"
   ]
  },
  {
   "cell_type": "code",
   "execution_count": 12,
   "id": "f81a8b85-ad66-4117-a511-859815dd58c8",
   "metadata": {},
   "outputs": [
    {
     "name": "stdout",
     "output_type": "stream",
     "text": [
      "[[[ 0.23076923 -0.53846154]\n",
      "  [-0.15384615  0.69230769]]]\n"
     ]
    }
   ],
   "source": [
    "#Inverse of 3d\n",
    "print(la.inv(a3))"
   ]
  },
  {
   "cell_type": "code",
   "execution_count": 13,
   "id": "19232cec-f896-474c-aa1d-7de1f9d98549",
   "metadata": {},
   "outputs": [
    {
     "name": "stdout",
     "output_type": "stream",
     "text": [
      "[[[[-0.27586207  0.17241379]\n",
      "   [ 0.31034483 -0.06896552]]]]\n"
     ]
    }
   ],
   "source": [
    "#Inverse of 4d\n",
    "print(la.inv(a4))"
   ]
  },
  {
   "cell_type": "code",
   "execution_count": 14,
   "id": "74e22f49-683b-47c3-b3c4-3d3611ebad7b",
   "metadata": {},
   "outputs": [
    {
     "name": "stdout",
     "output_type": "stream",
     "text": [
      "[[[[[ 0.22727273 -0.18181818]\n",
      "    [-0.09090909  0.27272727]]]]]\n"
     ]
    }
   ],
   "source": [
    "#Inverse of 5d\n",
    "print(la.inv(a5))"
   ]
  },
  {
   "cell_type": "code",
   "execution_count": 15,
   "id": "a530a34f-8cb2-4891-8b6b-1304c31d5f8b",
   "metadata": {},
   "outputs": [
    {
     "name": "stdout",
     "output_type": "stream",
     "text": [
      "1\n"
     ]
    }
   ],
   "source": [
    "#Rank of 1d\n",
    "print(la.matrix_rank(a1))"
   ]
  },
  {
   "cell_type": "code",
   "execution_count": 16,
   "id": "3fabdb30-b589-47a9-a45c-4badef1e00c4",
   "metadata": {},
   "outputs": [
    {
     "name": "stdout",
     "output_type": "stream",
     "text": [
      "2\n"
     ]
    }
   ],
   "source": [
    "#Rank of 2d\n",
    "print(la.matrix_rank(a2))"
   ]
  },
  {
   "cell_type": "code",
   "execution_count": 17,
   "id": "ef5c0d85-361b-415a-9cd1-2ee85cd4801d",
   "metadata": {},
   "outputs": [
    {
     "name": "stdout",
     "output_type": "stream",
     "text": [
      "[2]\n"
     ]
    }
   ],
   "source": [
    "#Rank of 3d\n",
    "print(la.matrix_rank(a3))"
   ]
  },
  {
   "cell_type": "code",
   "execution_count": 18,
   "id": "a352fce3-5593-4b69-bdb3-e434d451b08a",
   "metadata": {},
   "outputs": [
    {
     "name": "stdout",
     "output_type": "stream",
     "text": [
      "[[2]]\n"
     ]
    }
   ],
   "source": [
    "#Rank of 4d\n",
    "print(la.matrix_rank(a4))"
   ]
  },
  {
   "cell_type": "code",
   "execution_count": 19,
   "id": "12660a6c-e8ca-4845-9a78-15849ae85110",
   "metadata": {},
   "outputs": [
    {
     "name": "stdout",
     "output_type": "stream",
     "text": [
      "[[[2]]]\n"
     ]
    }
   ],
   "source": [
    "#Rank of 5d\n",
    "print(la.matrix_rank(a5))"
   ]
  },
  {
   "cell_type": "code",
   "execution_count": 20,
   "id": "244d74fd-246f-43cc-a3c2-8d4492b8dbc3",
   "metadata": {},
   "outputs": [],
   "source": [
    "#Trace of 1d\n",
    "#print(np.trace(a1))"
   ]
  },
  {
   "cell_type": "code",
   "execution_count": 21,
   "id": "fd378b29-bc5d-415a-8c66-22fa11b61587",
   "metadata": {},
   "outputs": [
    {
     "name": "stdout",
     "output_type": "stream",
     "text": [
      "9\n"
     ]
    }
   ],
   "source": [
    "#Trace of 2d\n",
    "print(np.trace(a2))"
   ]
  },
  {
   "cell_type": "code",
   "execution_count": 22,
   "id": "8b9b264d-6fa2-46b8-b96c-7f7775329c7f",
   "metadata": {},
   "outputs": [
    {
     "name": "stdout",
     "output_type": "stream",
     "text": [
      "[9 7]\n"
     ]
    }
   ],
   "source": [
    "#Trace of 3d\n",
    "print(np.trace(a3))"
   ]
  },
  {
   "cell_type": "code",
   "execution_count": 23,
   "id": "3e723fbc-8cf7-42fd-ad29-4d2334c76bd7",
   "metadata": {},
   "outputs": [
    {
     "name": "stdout",
     "output_type": "stream",
     "text": [
      "[[2 5]\n",
      " [9 8]]\n"
     ]
    }
   ],
   "source": [
    "#Trace of 4d\n",
    "print(np.trace(a4))"
   ]
  },
  {
   "cell_type": "code",
   "execution_count": 24,
   "id": "fa120675-8c35-421f-ac9c-770c3f953699",
   "metadata": {},
   "outputs": [
    {
     "name": "stdout",
     "output_type": "stream",
     "text": [
      "[[[6 4]\n",
      "  [2 5]]]\n"
     ]
    }
   ],
   "source": [
    "#Trace of 5d\n",
    "print(np.trace(a5))"
   ]
  },
  {
   "cell_type": "code",
   "execution_count": 25,
   "id": "73b7bf4b-89a3-4e6c-b82a-95ce875d3e4c",
   "metadata": {},
   "outputs": [
    {
     "name": "stdout",
     "output_type": "stream",
     "text": [
      "[[1 0]\n",
      " [0 2]]\n"
     ]
    }
   ],
   "source": [
    "#Diagonal of 1d\n",
    "print(np.diag(a1))"
   ]
  },
  {
   "cell_type": "code",
   "execution_count": 26,
   "id": "81eef15f-7622-4bab-bc99-89d49d7855de",
   "metadata": {},
   "outputs": [
    {
     "name": "stdout",
     "output_type": "stream",
     "text": [
      "[3 6]\n"
     ]
    }
   ],
   "source": [
    "#Diagonal of 2d\n",
    "print(np.diag(a2))"
   ]
  },
  {
   "cell_type": "code",
   "execution_count": 29,
   "id": "4708ce65-7b42-4b2d-b6f3-78c25eb9e82d",
   "metadata": {},
   "outputs": [],
   "source": [
    "#Diagonal of 3d\n",
    "#print(np.diag(a3))"
   ]
  },
  {
   "cell_type": "code",
   "execution_count": 30,
   "id": "bcdf544b-8b99-4e29-914f-a8982b58a3c2",
   "metadata": {},
   "outputs": [],
   "source": [
    "#Diagonal of 4d\n",
    "#print(np.diag(a4))"
   ]
  },
  {
   "cell_type": "code",
   "execution_count": 31,
   "id": "47193bcb-9f6f-4efa-be17-d4722a083b78",
   "metadata": {},
   "outputs": [],
   "source": [
    "#Diagonal of 5d\n",
    "#print(np.diag(a5))"
   ]
  },
  {
   "cell_type": "code",
   "execution_count": 35,
   "id": "98809240-7598-4f4e-85b8-024ca4c1eaf7",
   "metadata": {},
   "outputs": [],
   "source": [
    "#Eigen roots and vectors for 1d\n",
    "#x,y=la.eig(a1)\n",
    "#print(\"Roots:\",x)\n",
    "#print(\"Vectors:\",y)"
   ]
  },
  {
   "cell_type": "code",
   "execution_count": 36,
   "id": "4dfc9cc9-1e7e-4e46-adb7-40712fe687ba",
   "metadata": {},
   "outputs": [
    {
     "name": "stdout",
     "output_type": "stream",
     "text": [
      "Roots: [-0.21699057  9.21699057]\n",
      "Vectors: [[-0.77925158 -0.54107946]\n",
      " [ 0.62671124 -0.84097147]]\n"
     ]
    }
   ],
   "source": [
    "#Eigen roots and vectors\n",
    "x,y=la.eig(a2)\n",
    "print(\"Roots:\",x)\n",
    "print(\"Vectors:\",y)"
   ]
  },
  {
   "cell_type": "code",
   "execution_count": 37,
   "id": "a24e77fa-3507-48d9-85b4-de36e4a9e465",
   "metadata": {},
   "outputs": [
    {
     "name": "stdout",
     "output_type": "stream",
     "text": [
      "Roots: [[10.79583152  1.20416848]]\n",
      "Vectors: [[[ 0.96863191 -0.66810749]\n",
      "  [ 0.24849996  0.74406477]]]\n"
     ]
    }
   ],
   "source": [
    "x,y=la.eig(a3)\n",
    "print(\"Roots:\",x)\n",
    "print(\"Vectors:\",y)"
   ]
  },
  {
   "cell_type": "code",
   "execution_count": 38,
   "id": "2a2a6f9a-633a-452b-9f8b-032062cefb14",
   "metadata": {},
   "outputs": [
    {
     "name": "stdout",
     "output_type": "stream",
     "text": [
      "Roots: [[[-2.34846923 12.34846923]]]\n",
      "Vectors: [[[[-0.75455746 -0.43504451]\n",
      "   [ 0.65623398 -0.90040895]]]]\n"
     ]
    }
   ],
   "source": [
    "x,y=la.eig(a4)\n",
    "print(\"Roots:\",x)\n",
    "print(\"Vectors:\",y)"
   ]
  },
  {
   "cell_type": "code",
   "execution_count": 39,
   "id": "7e674168-5f92-49cc-a3fc-651b79f3b63f",
   "metadata": {},
   "outputs": [
    {
     "name": "stdout",
     "output_type": "stream",
     "text": [
      "Roots: [[[[8.37228132 2.62771868]]]]\n",
      "Vectors: [[[[[ 0.86011126 -0.76454754]\n",
      "    [ 0.51010647  0.64456735]]]]]\n"
     ]
    }
   ],
   "source": [
    "x,y=la.eig(a5)\n",
    "print(\"Roots:\",x)\n",
    "print(\"Vectors:\",y)"
   ]
  },
  {
   "cell_type": "code",
   "execution_count": 41,
   "id": "0088c4dc-0bb1-4a23-b86b-6f6d0a80b199",
   "metadata": {},
   "outputs": [],
   "source": [
    "#Eigen values for 1d matrix\n",
    "#print(la.eigvals(a1))"
   ]
  },
  {
   "cell_type": "code",
   "execution_count": 42,
   "id": "f8074ebe-3330-47e4-bb9f-4ab9815ad418",
   "metadata": {},
   "outputs": [
    {
     "name": "stdout",
     "output_type": "stream",
     "text": [
      "[-0.21699057  9.21699057]\n"
     ]
    }
   ],
   "source": [
    "#Eigen values for 2d\n",
    "print(la.eigvals(a2))"
   ]
  },
  {
   "cell_type": "code",
   "execution_count": 43,
   "id": "73377cf2-5c0b-44cf-be5c-09cbe4f9e5d4",
   "metadata": {},
   "outputs": [
    {
     "name": "stdout",
     "output_type": "stream",
     "text": [
      "[[10.79583152  1.20416848]]\n"
     ]
    }
   ],
   "source": [
    "#Eigen values for 3d matrix\n",
    "print(la.eigvals(a3))"
   ]
  },
  {
   "cell_type": "code",
   "execution_count": 44,
   "id": "f3af913e-be51-4a9b-8f2b-23638b2ab1d3",
   "metadata": {},
   "outputs": [
    {
     "name": "stdout",
     "output_type": "stream",
     "text": [
      "[[[-2.34846923 12.34846923]]]\n"
     ]
    }
   ],
   "source": [
    "print(la.eigvals(a4))"
   ]
  },
  {
   "cell_type": "code",
   "execution_count": 45,
   "id": "a143e998-b54b-4e5e-9bce-468db4a1a997",
   "metadata": {},
   "outputs": [
    {
     "name": "stdout",
     "output_type": "stream",
     "text": [
      "[[[[8.37228132 2.62771868]]]]\n"
     ]
    }
   ],
   "source": [
    "print(la.eigvals(a5))"
   ]
  },
  {
   "cell_type": "markdown",
   "id": "ee0ec28d-a41b-4121-a882-b8ef363f0dcc",
   "metadata": {},
   "source": [
    "## Pandas"
   ]
  },
  {
   "cell_type": "markdown",
   "id": "550831ca-051f-4a68-a902-bcbfde0d79df",
   "metadata": {},
   "source": [
    "### Data1"
   ]
  },
  {
   "cell_type": "code",
   "execution_count": 2,
   "id": "c465d03d-00be-4a31-ba24-abc52f03f8e7",
   "metadata": {},
   "outputs": [
    {
     "data": {
      "text/html": [
       "<div>\n",
       "<style scoped>\n",
       "    .dataframe tbody tr th:only-of-type {\n",
       "        vertical-align: middle;\n",
       "    }\n",
       "\n",
       "    .dataframe tbody tr th {\n",
       "        vertical-align: top;\n",
       "    }\n",
       "\n",
       "    .dataframe thead th {\n",
       "        text-align: right;\n",
       "    }\n",
       "</style>\n",
       "<table border=\"1\" class=\"dataframe\">\n",
       "  <thead>\n",
       "    <tr style=\"text-align: right;\">\n",
       "      <th></th>\n",
       "      <th>Happiness Rank</th>\n",
       "      <th>Happiness Score</th>\n",
       "      <th>Standard Error</th>\n",
       "      <th>Economy (GDP per Capita)</th>\n",
       "      <th>Family</th>\n",
       "      <th>Health (Life Expectancy)</th>\n",
       "      <th>Freedom</th>\n",
       "      <th>Trust (Government Corruption)</th>\n",
       "      <th>Generosity</th>\n",
       "      <th>Dystopia Residual</th>\n",
       "    </tr>\n",
       "  </thead>\n",
       "  <tbody>\n",
       "    <tr>\n",
       "      <th>count</th>\n",
       "      <td>158.000000</td>\n",
       "      <td>158.000000</td>\n",
       "      <td>158.000000</td>\n",
       "      <td>158.000000</td>\n",
       "      <td>158.000000</td>\n",
       "      <td>158.000000</td>\n",
       "      <td>158.000000</td>\n",
       "      <td>158.000000</td>\n",
       "      <td>158.000000</td>\n",
       "      <td>158.000000</td>\n",
       "    </tr>\n",
       "    <tr>\n",
       "      <th>mean</th>\n",
       "      <td>79.493671</td>\n",
       "      <td>5.375734</td>\n",
       "      <td>0.047885</td>\n",
       "      <td>0.846137</td>\n",
       "      <td>0.991046</td>\n",
       "      <td>0.630259</td>\n",
       "      <td>0.428615</td>\n",
       "      <td>0.143422</td>\n",
       "      <td>0.237296</td>\n",
       "      <td>2.098977</td>\n",
       "    </tr>\n",
       "    <tr>\n",
       "      <th>std</th>\n",
       "      <td>45.754363</td>\n",
       "      <td>1.145010</td>\n",
       "      <td>0.017146</td>\n",
       "      <td>0.403121</td>\n",
       "      <td>0.272369</td>\n",
       "      <td>0.247078</td>\n",
       "      <td>0.150693</td>\n",
       "      <td>0.120034</td>\n",
       "      <td>0.126685</td>\n",
       "      <td>0.553550</td>\n",
       "    </tr>\n",
       "    <tr>\n",
       "      <th>min</th>\n",
       "      <td>1.000000</td>\n",
       "      <td>2.839000</td>\n",
       "      <td>0.018480</td>\n",
       "      <td>0.000000</td>\n",
       "      <td>0.000000</td>\n",
       "      <td>0.000000</td>\n",
       "      <td>0.000000</td>\n",
       "      <td>0.000000</td>\n",
       "      <td>0.000000</td>\n",
       "      <td>0.328580</td>\n",
       "    </tr>\n",
       "    <tr>\n",
       "      <th>25%</th>\n",
       "      <td>40.250000</td>\n",
       "      <td>4.526000</td>\n",
       "      <td>0.037268</td>\n",
       "      <td>0.545808</td>\n",
       "      <td>0.856823</td>\n",
       "      <td>0.439185</td>\n",
       "      <td>0.328330</td>\n",
       "      <td>0.061675</td>\n",
       "      <td>0.150553</td>\n",
       "      <td>1.759410</td>\n",
       "    </tr>\n",
       "    <tr>\n",
       "      <th>50%</th>\n",
       "      <td>79.500000</td>\n",
       "      <td>5.232500</td>\n",
       "      <td>0.043940</td>\n",
       "      <td>0.910245</td>\n",
       "      <td>1.029510</td>\n",
       "      <td>0.696705</td>\n",
       "      <td>0.435515</td>\n",
       "      <td>0.107220</td>\n",
       "      <td>0.216130</td>\n",
       "      <td>2.095415</td>\n",
       "    </tr>\n",
       "    <tr>\n",
       "      <th>75%</th>\n",
       "      <td>118.750000</td>\n",
       "      <td>6.243750</td>\n",
       "      <td>0.052300</td>\n",
       "      <td>1.158448</td>\n",
       "      <td>1.214405</td>\n",
       "      <td>0.811013</td>\n",
       "      <td>0.549092</td>\n",
       "      <td>0.180255</td>\n",
       "      <td>0.309883</td>\n",
       "      <td>2.462415</td>\n",
       "    </tr>\n",
       "    <tr>\n",
       "      <th>max</th>\n",
       "      <td>158.000000</td>\n",
       "      <td>7.587000</td>\n",
       "      <td>0.136930</td>\n",
       "      <td>1.690420</td>\n",
       "      <td>1.402230</td>\n",
       "      <td>1.025250</td>\n",
       "      <td>0.669730</td>\n",
       "      <td>0.551910</td>\n",
       "      <td>0.795880</td>\n",
       "      <td>3.602140</td>\n",
       "    </tr>\n",
       "  </tbody>\n",
       "</table>\n",
       "</div>"
      ],
      "text/plain": [
       "       Happiness Rank  Happiness Score  Standard Error  \\\n",
       "count      158.000000       158.000000      158.000000   \n",
       "mean        79.493671         5.375734        0.047885   \n",
       "std         45.754363         1.145010        0.017146   \n",
       "min          1.000000         2.839000        0.018480   \n",
       "25%         40.250000         4.526000        0.037268   \n",
       "50%         79.500000         5.232500        0.043940   \n",
       "75%        118.750000         6.243750        0.052300   \n",
       "max        158.000000         7.587000        0.136930   \n",
       "\n",
       "       Economy (GDP per Capita)      Family  Health (Life Expectancy)  \\\n",
       "count                158.000000  158.000000                158.000000   \n",
       "mean                   0.846137    0.991046                  0.630259   \n",
       "std                    0.403121    0.272369                  0.247078   \n",
       "min                    0.000000    0.000000                  0.000000   \n",
       "25%                    0.545808    0.856823                  0.439185   \n",
       "50%                    0.910245    1.029510                  0.696705   \n",
       "75%                    1.158448    1.214405                  0.811013   \n",
       "max                    1.690420    1.402230                  1.025250   \n",
       "\n",
       "          Freedom  Trust (Government Corruption)  Generosity  \\\n",
       "count  158.000000                     158.000000  158.000000   \n",
       "mean     0.428615                       0.143422    0.237296   \n",
       "std      0.150693                       0.120034    0.126685   \n",
       "min      0.000000                       0.000000    0.000000   \n",
       "25%      0.328330                       0.061675    0.150553   \n",
       "50%      0.435515                       0.107220    0.216130   \n",
       "75%      0.549092                       0.180255    0.309883   \n",
       "max      0.669730                       0.551910    0.795880   \n",
       "\n",
       "       Dystopia Residual  \n",
       "count         158.000000  \n",
       "mean            2.098977  \n",
       "std             0.553550  \n",
       "min             0.328580  \n",
       "25%             1.759410  \n",
       "50%             2.095415  \n",
       "75%             2.462415  \n",
       "max             3.602140  "
      ]
     },
     "execution_count": 2,
     "metadata": {},
     "output_type": "execute_result"
    }
   ],
   "source": [
    "import pandas as pd\n",
    "#file = \"C:\\\\Users\\\\DELL\\\\Downloads\\\\7_Uber.csv\"\n",
    "data=pd.read_csv(\"C:\\\\Users\\\\DELL\\\\Downloads\\\\1_2015.csv\")\n",
    "data.describe()"
   ]
  },
  {
   "cell_type": "code",
   "execution_count": 3,
   "id": "35acaace-411a-4365-825a-9e041decc7f5",
   "metadata": {},
   "outputs": [
    {
     "name": "stdout",
     "output_type": "stream",
     "text": [
      "<class 'pandas.core.frame.DataFrame'>\n",
      "RangeIndex: 158 entries, 0 to 157\n",
      "Data columns (total 12 columns):\n",
      " #   Column                         Non-Null Count  Dtype  \n",
      "---  ------                         --------------  -----  \n",
      " 0   Country                        158 non-null    object \n",
      " 1   Region                         158 non-null    object \n",
      " 2   Happiness Rank                 158 non-null    int64  \n",
      " 3   Happiness Score                158 non-null    float64\n",
      " 4   Standard Error                 158 non-null    float64\n",
      " 5   Economy (GDP per Capita)       158 non-null    float64\n",
      " 6   Family                         158 non-null    float64\n",
      " 7   Health (Life Expectancy)       158 non-null    float64\n",
      " 8   Freedom                        158 non-null    float64\n",
      " 9   Trust (Government Corruption)  158 non-null    float64\n",
      " 10  Generosity                     158 non-null    float64\n",
      " 11  Dystopia Residual              158 non-null    float64\n",
      "dtypes: float64(9), int64(1), object(2)\n",
      "memory usage: 14.9+ KB\n"
     ]
    }
   ],
   "source": [
    "data.info()"
   ]
  },
  {
   "cell_type": "code",
   "execution_count": 9,
   "id": "b1c9d812-3db4-414e-890f-afa0b7bb11f1",
   "metadata": {},
   "outputs": [
    {
     "name": "stdout",
     "output_type": "stream",
     "text": [
      "\n",
      "Sum:\n",
      " Country                          SwitzerlandIcelandDenmarkNorwayCanadaFinlandNe...\n",
      "Region                           Western EuropeWestern EuropeWestern EuropeWest...\n",
      "Happiness Rank                                                               12560\n",
      "Happiness Score                                                            849.366\n",
      "Standard Error                                                             7.56579\n",
      "Economy (GDP per Capita)                                                 133.68968\n",
      "Family                                                                   156.58526\n",
      "Health (Life Expectancy)                                                  99.58098\n",
      "Freedom                                                                   67.72116\n",
      "Trust (Government Corruption)                                             22.66065\n",
      "Generosity                                                                37.49269\n",
      "Dystopia Residual                                                        331.63833\n",
      "dtype: object\n"
     ]
    }
   ],
   "source": [
    "print(\"\\nSum:\\n\",data.sum())"
   ]
  },
  {
   "cell_type": "code",
   "execution_count": 10,
   "id": "1f123b06-dc12-49fa-84f1-bd51900ed696",
   "metadata": {},
   "outputs": [
    {
     "name": "stdout",
     "output_type": "stream",
     "text": [
      "\n",
      "Cummulative sum\n",
      ":                                                Country  \\\n",
      "0                                          Switzerland   \n",
      "1                                   SwitzerlandIceland   \n",
      "2                            SwitzerlandIcelandDenmark   \n",
      "3                      SwitzerlandIcelandDenmarkNorway   \n",
      "4                SwitzerlandIcelandDenmarkNorwayCanada   \n",
      "..                                                 ...   \n",
      "153  SwitzerlandIcelandDenmarkNorwayCanadaFinlandNe...   \n",
      "154  SwitzerlandIcelandDenmarkNorwayCanadaFinlandNe...   \n",
      "155  SwitzerlandIcelandDenmarkNorwayCanadaFinlandNe...   \n",
      "156  SwitzerlandIcelandDenmarkNorwayCanadaFinlandNe...   \n",
      "157  SwitzerlandIcelandDenmarkNorwayCanadaFinlandNe...   \n",
      "\n",
      "                                                Region  Happiness Rank  \\\n",
      "0                                       Western Europe               1   \n",
      "1                         Western EuropeWestern Europe               3   \n",
      "2           Western EuropeWestern EuropeWestern Europe               6   \n",
      "3    Western EuropeWestern EuropeWestern EuropeWest...              10   \n",
      "4    Western EuropeWestern EuropeWestern EuropeWest...              15   \n",
      "..                                                 ...             ...   \n",
      "153  Western EuropeWestern EuropeWestern EuropeWest...           11934   \n",
      "154  Western EuropeWestern EuropeWestern EuropeWest...           12089   \n",
      "155  Western EuropeWestern EuropeWestern EuropeWest...           12245   \n",
      "156  Western EuropeWestern EuropeWestern EuropeWest...           12402   \n",
      "157  Western EuropeWestern EuropeWestern EuropeWest...           12560   \n",
      "\n",
      "     Happiness Score  Standard Error  Economy (GDP per Capita)     Family  \\\n",
      "0              7.587         0.03411                   1.39651    1.34951   \n",
      "1             15.148         0.08295                   2.69883    2.75174   \n",
      "2             22.675         0.11623                   4.02431    4.11232   \n",
      "3             30.197         0.15503                   5.48331    5.44327   \n",
      "4             37.624         0.19056                   6.80960    6.76588   \n",
      "..               ...             ...                       ...        ...   \n",
      "153          837.276         7.32523                 132.51585  155.20069   \n",
      "154          840.616         7.36179                 132.80250  155.55455   \n",
      "155          843.622         7.41194                 133.46570  156.02944   \n",
      "156          846.527         7.49852                 133.48100  156.44531   \n",
      "157          849.366         7.56579                 133.68968  156.58526   \n",
      "\n",
      "     Health (Life Expectancy)   Freedom  Trust (Government Corruption)  \\\n",
      "0                     0.94143   0.66557                        0.41978   \n",
      "1                     1.88927   1.29434                        0.56123   \n",
      "2                     2.76391   1.94372                        1.04480   \n",
      "3                     3.64912   2.61345                        1.40983   \n",
      "4                     4.55475   3.24642                        1.73940   \n",
      "..                        ...       ...                            ...   \n",
      "153                  98.03156  66.59679                       22.18356   \n",
      "154                  98.35066  67.08129                       22.26366   \n",
      "155                  99.07259  67.23813                       22.45272   \n",
      "156                  99.29655  67.35663                       22.55334   \n",
      "157                  99.58098  67.72116                       22.66065   \n",
      "\n",
      "     Generosity  Dystopia Residual  \n",
      "0       0.29678            2.51738  \n",
      "1       0.73308            5.21939  \n",
      "2       1.07447            7.71143  \n",
      "3       1.42146           10.17674  \n",
      "4       1.87957           12.62850  \n",
      "..          ...                ...  \n",
      "153    36.47422          326.27619  \n",
      "154    36.65682          327.90947  \n",
      "155    37.12861          328.23805  \n",
      "156    37.32588          330.07107  \n",
      "157    37.49269          331.63833  \n",
      "\n",
      "[158 rows x 12 columns]\n"
     ]
    }
   ],
   "source": [
    "print(\"\\nCummulative sum\\n:\",data.cumsum())"
   ]
  },
  {
   "cell_type": "code",
   "execution_count": 11,
   "id": "91e01fbe-3cfe-458a-8b1e-e4cf531faba9",
   "metadata": {},
   "outputs": [
    {
     "name": "stdout",
     "output_type": "stream",
     "text": [
      "\n",
      "Count:\n",
      " Country                          158\n",
      "Region                           158\n",
      "Happiness Rank                   158\n",
      "Happiness Score                  158\n",
      "Standard Error                   158\n",
      "Economy (GDP per Capita)         158\n",
      "Family                           158\n",
      "Health (Life Expectancy)         158\n",
      "Freedom                          158\n",
      "Trust (Government Corruption)    158\n",
      "Generosity                       158\n",
      "Dystopia Residual                158\n",
      "dtype: int64\n"
     ]
    }
   ],
   "source": [
    "print(\"\\nCount:\\n\",data.count())"
   ]
  },
  {
   "cell_type": "code",
   "execution_count": 12,
   "id": "d19d0736-3973-41b7-ad77-3abde95da82d",
   "metadata": {},
   "outputs": [
    {
     "name": "stdout",
     "output_type": "stream",
     "text": [
      "\n",
      "Max:\n",
      " Country                                Zimbabwe\n",
      "Region                           Western Europe\n",
      "Happiness Rank                              158\n",
      "Happiness Score                           7.587\n",
      "Standard Error                          0.13693\n",
      "Economy (GDP per Capita)                1.69042\n",
      "Family                                  1.40223\n",
      "Health (Life Expectancy)                1.02525\n",
      "Freedom                                 0.66973\n",
      "Trust (Government Corruption)           0.55191\n",
      "Generosity                              0.79588\n",
      "Dystopia Residual                       3.60214\n",
      "dtype: object\n"
     ]
    }
   ],
   "source": [
    "print(\"\\nMax:\\n\",data.max())"
   ]
  },
  {
   "cell_type": "code",
   "execution_count": 13,
   "id": "bad7a04e-05cc-4f45-b15c-4eb9355deba9",
   "metadata": {},
   "outputs": [
    {
     "name": "stdout",
     "output_type": "stream",
     "text": [
      "\n",
      "Min:\n",
      " Country                                        Afghanistan\n",
      "Region                           Australia and New Zealand\n",
      "Happiness Rank                                           1\n",
      "Happiness Score                                      2.839\n",
      "Standard Error                                     0.01848\n",
      "Economy (GDP per Capita)                               0.0\n",
      "Family                                                 0.0\n",
      "Health (Life Expectancy)                               0.0\n",
      "Freedom                                                0.0\n",
      "Trust (Government Corruption)                          0.0\n",
      "Generosity                                             0.0\n",
      "Dystopia Residual                                  0.32858\n",
      "dtype: object\n"
     ]
    }
   ],
   "source": [
    "print(\"\\nMin:\\n\",data.min())"
   ]
  },
  {
   "cell_type": "code",
   "execution_count": 4,
   "id": "3dbba287-a65c-4239-8f55-bceba81ad115",
   "metadata": {},
   "outputs": [
    {
     "data": {
      "text/html": [
       "<div>\n",
       "<style scoped>\n",
       "    .dataframe tbody tr th:only-of-type {\n",
       "        vertical-align: middle;\n",
       "    }\n",
       "\n",
       "    .dataframe tbody tr th {\n",
       "        vertical-align: top;\n",
       "    }\n",
       "\n",
       "    .dataframe thead th {\n",
       "        text-align: right;\n",
       "    }\n",
       "</style>\n",
       "<table border=\"1\" class=\"dataframe\">\n",
       "  <thead>\n",
       "    <tr style=\"text-align: right;\">\n",
       "      <th></th>\n",
       "      <th>Country</th>\n",
       "      <th>Region</th>\n",
       "      <th>Happiness Rank</th>\n",
       "      <th>Happiness Score</th>\n",
       "      <th>Standard Error</th>\n",
       "      <th>Economy (GDP per Capita)</th>\n",
       "      <th>Family</th>\n",
       "      <th>Health (Life Expectancy)</th>\n",
       "      <th>Freedom</th>\n",
       "      <th>Trust (Government Corruption)</th>\n",
       "      <th>Generosity</th>\n",
       "      <th>Dystopia Residual</th>\n",
       "    </tr>\n",
       "  </thead>\n",
       "  <tbody>\n",
       "    <tr>\n",
       "      <th>0</th>\n",
       "      <td>Switzerland</td>\n",
       "      <td>Western Europe</td>\n",
       "      <td>1</td>\n",
       "      <td>7.587</td>\n",
       "      <td>0.03411</td>\n",
       "      <td>1.39651</td>\n",
       "      <td>1.34951</td>\n",
       "      <td>0.94143</td>\n",
       "      <td>0.66557</td>\n",
       "      <td>0.41978</td>\n",
       "      <td>0.29678</td>\n",
       "      <td>2.51738</td>\n",
       "    </tr>\n",
       "    <tr>\n",
       "      <th>1</th>\n",
       "      <td>Iceland</td>\n",
       "      <td>Western Europe</td>\n",
       "      <td>2</td>\n",
       "      <td>7.561</td>\n",
       "      <td>0.04884</td>\n",
       "      <td>1.30232</td>\n",
       "      <td>1.40223</td>\n",
       "      <td>0.94784</td>\n",
       "      <td>0.62877</td>\n",
       "      <td>0.14145</td>\n",
       "      <td>0.43630</td>\n",
       "      <td>2.70201</td>\n",
       "    </tr>\n",
       "    <tr>\n",
       "      <th>2</th>\n",
       "      <td>Denmark</td>\n",
       "      <td>Western Europe</td>\n",
       "      <td>3</td>\n",
       "      <td>7.527</td>\n",
       "      <td>0.03328</td>\n",
       "      <td>1.32548</td>\n",
       "      <td>1.36058</td>\n",
       "      <td>0.87464</td>\n",
       "      <td>0.64938</td>\n",
       "      <td>0.48357</td>\n",
       "      <td>0.34139</td>\n",
       "      <td>2.49204</td>\n",
       "    </tr>\n",
       "    <tr>\n",
       "      <th>3</th>\n",
       "      <td>Norway</td>\n",
       "      <td>Western Europe</td>\n",
       "      <td>4</td>\n",
       "      <td>7.522</td>\n",
       "      <td>0.03880</td>\n",
       "      <td>1.45900</td>\n",
       "      <td>1.33095</td>\n",
       "      <td>0.88521</td>\n",
       "      <td>0.66973</td>\n",
       "      <td>0.36503</td>\n",
       "      <td>0.34699</td>\n",
       "      <td>2.46531</td>\n",
       "    </tr>\n",
       "    <tr>\n",
       "      <th>4</th>\n",
       "      <td>Canada</td>\n",
       "      <td>North America</td>\n",
       "      <td>5</td>\n",
       "      <td>7.427</td>\n",
       "      <td>0.03553</td>\n",
       "      <td>1.32629</td>\n",
       "      <td>1.32261</td>\n",
       "      <td>0.90563</td>\n",
       "      <td>0.63297</td>\n",
       "      <td>0.32957</td>\n",
       "      <td>0.45811</td>\n",
       "      <td>2.45176</td>\n",
       "    </tr>\n",
       "  </tbody>\n",
       "</table>\n",
       "</div>"
      ],
      "text/plain": [
       "       Country          Region  Happiness Rank  Happiness Score  \\\n",
       "0  Switzerland  Western Europe               1            7.587   \n",
       "1      Iceland  Western Europe               2            7.561   \n",
       "2      Denmark  Western Europe               3            7.527   \n",
       "3       Norway  Western Europe               4            7.522   \n",
       "4       Canada   North America               5            7.427   \n",
       "\n",
       "   Standard Error  Economy (GDP per Capita)   Family  \\\n",
       "0         0.03411                   1.39651  1.34951   \n",
       "1         0.04884                   1.30232  1.40223   \n",
       "2         0.03328                   1.32548  1.36058   \n",
       "3         0.03880                   1.45900  1.33095   \n",
       "4         0.03553                   1.32629  1.32261   \n",
       "\n",
       "   Health (Life Expectancy)  Freedom  Trust (Government Corruption)  \\\n",
       "0                   0.94143  0.66557                        0.41978   \n",
       "1                   0.94784  0.62877                        0.14145   \n",
       "2                   0.87464  0.64938                        0.48357   \n",
       "3                   0.88521  0.66973                        0.36503   \n",
       "4                   0.90563  0.63297                        0.32957   \n",
       "\n",
       "   Generosity  Dystopia Residual  \n",
       "0     0.29678            2.51738  \n",
       "1     0.43630            2.70201  \n",
       "2     0.34139            2.49204  \n",
       "3     0.34699            2.46531  \n",
       "4     0.45811            2.45176  "
      ]
     },
     "execution_count": 4,
     "metadata": {},
     "output_type": "execute_result"
    }
   ],
   "source": [
    "data.head()"
   ]
  },
  {
   "cell_type": "code",
   "execution_count": 18,
   "id": "3152a031-c49f-44d4-99a4-4d918dfa906f",
   "metadata": {},
   "outputs": [
    {
     "data": {
      "text/plain": [
       "Index(['Country', 'Region', 'Happiness Rank', 'Happiness Score',\n",
       "       'Standard Error', 'Economy (GDP per Capita)', 'Family',\n",
       "       'Health (Life Expectancy)', 'Freedom', 'Trust (Government Corruption)',\n",
       "       'Generosity', 'Dystopia Residual'],\n",
       "      dtype='object')"
      ]
     },
     "execution_count": 18,
     "metadata": {},
     "output_type": "execute_result"
    }
   ],
   "source": [
    "data.columns"
   ]
  },
  {
   "cell_type": "code",
   "execution_count": 5,
   "id": "d12159df-54be-4766-a7a5-07361eeb52a7",
   "metadata": {},
   "outputs": [],
   "source": [
    "new_data = data.drop([\"Country\",\"Region\"],axis=1)"
   ]
  },
  {
   "cell_type": "code",
   "execution_count": 14,
   "id": "39219aff-5a0f-46b3-9e5d-d28e8cc34b00",
   "metadata": {},
   "outputs": [
    {
     "name": "stdout",
     "output_type": "stream",
     "text": [
      "\n",
      "Mean:\n",
      " Happiness Rank                   79.493671\n",
      "Happiness Score                   5.375734\n",
      "Standard Error                    0.047885\n",
      "Economy (GDP per Capita)          0.846137\n",
      "Family                            0.991046\n",
      "Health (Life Expectancy)          0.630259\n",
      "Freedom                           0.428615\n",
      "Trust (Government Corruption)     0.143422\n",
      "Generosity                        0.237296\n",
      "Dystopia Residual                 2.098977\n",
      "dtype: float64\n"
     ]
    }
   ],
   "source": [
    "print(\"\\nMean:\\n\",new_data.mean())"
   ]
  },
  {
   "cell_type": "code",
   "execution_count": 15,
   "id": "b91354f9-9013-4810-aacf-138c19a73e5b",
   "metadata": {},
   "outputs": [
    {
     "name": "stdout",
     "output_type": "stream",
     "text": [
      "\n",
      "Mean:\n",
      "      Happiness Rank  Happiness Score  Standard Error  \\\n",
      "0              82.0            5.192         0.03751   \n",
      "1               NaN              NaN         0.03780   \n",
      "2               NaN              NaN         0.04394   \n",
      "3               NaN              NaN         0.04934   \n",
      "4               NaN              NaN         0.05051   \n",
      "..              ...              ...             ...   \n",
      "153             NaN              NaN             NaN   \n",
      "154             NaN              NaN             NaN   \n",
      "155             NaN              NaN             NaN   \n",
      "156             NaN              NaN             NaN   \n",
      "157             NaN              NaN             NaN   \n",
      "\n",
      "     Economy (GDP per Capita)   Family  Health (Life Expectancy)  Freedom  \\\n",
      "0                     0.00000  0.00000                   0.92356  0.00000   \n",
      "1                     0.01530  0.13995                       NaN  0.07699   \n",
      "2                     0.01604  0.30285                       NaN  0.09245   \n",
      "3                     0.06940  0.35386                       NaN  0.10081   \n",
      "4                     0.07120  0.38174                       NaN  0.10384   \n",
      "..                        ...      ...                       ...      ...   \n",
      "153                   1.45900  1.34043                       NaN  0.65821   \n",
      "154                   1.52186  1.34951                       NaN  0.65980   \n",
      "155                   1.55422  1.36058                       NaN  0.66246   \n",
      "156                   1.56391  1.36948                       NaN  0.66557   \n",
      "157                   1.69042  1.40223                       NaN  0.66973   \n",
      "\n",
      "     Trust (Government Corruption)  Generosity  Dystopia Residual  \n",
      "0                          0.32524     0.00000            0.32858  \n",
      "1                              NaN     0.00199            0.65429  \n",
      "2                              NaN     0.02641            0.67042  \n",
      "3                              NaN     0.05444            0.67108  \n",
      "4                              NaN     0.05547            0.89991  \n",
      "..                             ...         ...                ...  \n",
      "153                            NaN     0.51535            3.10712  \n",
      "154                            NaN     0.51752            3.17728  \n",
      "155                            NaN     0.51912            3.19131  \n",
      "156                            NaN     0.57630            3.26001  \n",
      "157                            NaN     0.79588            3.60214  \n",
      "\n",
      "[158 rows x 10 columns]\n"
     ]
    }
   ],
   "source": [
    "print(\"\\nMean:\\n\",new_data.mode())"
   ]
  },
  {
   "cell_type": "code",
   "execution_count": 16,
   "id": "e3d0233a-cc9f-4b9b-9dcb-155bcacfb12d",
   "metadata": {},
   "outputs": [
    {
     "name": "stdout",
     "output_type": "stream",
     "text": [
      "\n",
      "Mean:\n",
      " Happiness Rank                   79.500000\n",
      "Happiness Score                   5.232500\n",
      "Standard Error                    0.043940\n",
      "Economy (GDP per Capita)          0.910245\n",
      "Family                            1.029510\n",
      "Health (Life Expectancy)          0.696705\n",
      "Freedom                           0.435515\n",
      "Trust (Government Corruption)     0.107220\n",
      "Generosity                        0.216130\n",
      "Dystopia Residual                 2.095415\n",
      "dtype: float64\n"
     ]
    }
   ],
   "source": [
    "print(\"\\nMean:\\n\",new_data.median())"
   ]
  },
  {
   "cell_type": "code",
   "execution_count": 17,
   "id": "f397638a-588a-4e73-892a-70de13d6f70f",
   "metadata": {},
   "outputs": [],
   "source": [
    "from numpy import cov"
   ]
  },
  {
   "cell_type": "code",
   "execution_count": 20,
   "id": "030431f2-fa53-42f3-9db5-c87b1465f444",
   "metadata": {},
   "outputs": [
    {
     "data": {
      "text/plain": [
       "0      0.66557\n",
       "1      0.62877\n",
       "2      0.64938\n",
       "3      0.66973\n",
       "4      0.63297\n",
       "        ...   \n",
       "153    0.59201\n",
       "154    0.48450\n",
       "155    0.15684\n",
       "156    0.11850\n",
       "157    0.36453\n",
       "Name: Freedom, Length: 158, dtype: float64"
      ]
     },
     "execution_count": 20,
     "metadata": {},
     "output_type": "execute_result"
    }
   ],
   "source": [
    "data1= data.Family\n",
    "data2 = data.Freedom\n",
    "data1\n",
    "data2"
   ]
  },
  {
   "cell_type": "code",
   "execution_count": 21,
   "id": "7f6ff69e-d0b1-4fdc-9137-418a966ec469",
   "metadata": {},
   "outputs": [
    {
     "name": "stdout",
     "output_type": "stream",
     "text": [
      "[[0.07418492 0.0181217 ]\n",
      " [0.0181217  0.02270832]]\n"
     ]
    }
   ],
   "source": [
    "covariance=cov(data1,data2)\n",
    "print(covariance)"
   ]
  },
  {
   "cell_type": "code",
   "execution_count": 23,
   "id": "375838b7-2210-4c77-bf73-e192aefc3645",
   "metadata": {},
   "outputs": [
    {
     "name": "stdout",
     "output_type": "stream",
     "text": [
      "0.44151821062286056\n"
     ]
    }
   ],
   "source": [
    "#correlation\n",
    "from scipy.stats import pearsonr\n",
    "data1=data.Family\n",
    "data2=data.Freedom\n",
    "corr,_=pearsonr(data1,data2)\n",
    "print(corr)"
   ]
  },
  {
   "cell_type": "code",
   "execution_count": 24,
   "id": "d9d58bc5-9e37-4bd6-b352-a468585fe904",
   "metadata": {},
   "outputs": [
    {
     "name": "stdout",
     "output_type": "stream",
     "text": [
      "0.44151821062286056\n"
     ]
    }
   ],
   "source": [
    "#correlation\n",
    "from scipy.stats import pearsonr\n",
    "data1=data.Family\n",
    "data2=data.Freedom\n",
    "corr,_=pearsonr(data1,data2)\n",
    "print(corr)"
   ]
  },
  {
   "cell_type": "markdown",
   "id": "7b7dbe12-9fee-4610-9683-a066ecf26668",
   "metadata": {},
   "source": [
    "### Data2"
   ]
  },
  {
   "cell_type": "code",
   "execution_count": 46,
   "id": "2c1ac65c-71f6-4373-a469-84bafa7903bd",
   "metadata": {},
   "outputs": [
    {
     "data": {
      "text/html": [
       "<div>\n",
       "<style scoped>\n",
       "    .dataframe tbody tr th:only-of-type {\n",
       "        vertical-align: middle;\n",
       "    }\n",
       "\n",
       "    .dataframe tbody tr th {\n",
       "        vertical-align: top;\n",
       "    }\n",
       "\n",
       "    .dataframe thead th {\n",
       "        text-align: right;\n",
       "    }\n",
       "</style>\n",
       "<table border=\"1\" class=\"dataframe\">\n",
       "  <thead>\n",
       "    <tr style=\"text-align: right;\">\n",
       "      <th></th>\n",
       "      <th>Age</th>\n",
       "      <th>Sex</th>\n",
       "      <th>BP</th>\n",
       "      <th>Cholesterol</th>\n",
       "      <th>Na_to_K</th>\n",
       "      <th>Drug</th>\n",
       "    </tr>\n",
       "  </thead>\n",
       "  <tbody>\n",
       "    <tr>\n",
       "      <th>0</th>\n",
       "      <td>23</td>\n",
       "      <td>F</td>\n",
       "      <td>HIGH</td>\n",
       "      <td>HIGH</td>\n",
       "      <td>25.355</td>\n",
       "      <td>drugY</td>\n",
       "    </tr>\n",
       "    <tr>\n",
       "      <th>1</th>\n",
       "      <td>47</td>\n",
       "      <td>M</td>\n",
       "      <td>LOW</td>\n",
       "      <td>HIGH</td>\n",
       "      <td>13.093</td>\n",
       "      <td>drugC</td>\n",
       "    </tr>\n",
       "    <tr>\n",
       "      <th>2</th>\n",
       "      <td>47</td>\n",
       "      <td>M</td>\n",
       "      <td>LOW</td>\n",
       "      <td>HIGH</td>\n",
       "      <td>10.114</td>\n",
       "      <td>drugC</td>\n",
       "    </tr>\n",
       "    <tr>\n",
       "      <th>3</th>\n",
       "      <td>28</td>\n",
       "      <td>F</td>\n",
       "      <td>NORMAL</td>\n",
       "      <td>HIGH</td>\n",
       "      <td>7.798</td>\n",
       "      <td>drugX</td>\n",
       "    </tr>\n",
       "    <tr>\n",
       "      <th>4</th>\n",
       "      <td>61</td>\n",
       "      <td>F</td>\n",
       "      <td>LOW</td>\n",
       "      <td>HIGH</td>\n",
       "      <td>18.043</td>\n",
       "      <td>drugY</td>\n",
       "    </tr>\n",
       "    <tr>\n",
       "      <th>...</th>\n",
       "      <td>...</td>\n",
       "      <td>...</td>\n",
       "      <td>...</td>\n",
       "      <td>...</td>\n",
       "      <td>...</td>\n",
       "      <td>...</td>\n",
       "    </tr>\n",
       "    <tr>\n",
       "      <th>195</th>\n",
       "      <td>56</td>\n",
       "      <td>F</td>\n",
       "      <td>LOW</td>\n",
       "      <td>HIGH</td>\n",
       "      <td>11.567</td>\n",
       "      <td>drugC</td>\n",
       "    </tr>\n",
       "    <tr>\n",
       "      <th>196</th>\n",
       "      <td>16</td>\n",
       "      <td>M</td>\n",
       "      <td>LOW</td>\n",
       "      <td>HIGH</td>\n",
       "      <td>12.006</td>\n",
       "      <td>drugC</td>\n",
       "    </tr>\n",
       "    <tr>\n",
       "      <th>197</th>\n",
       "      <td>52</td>\n",
       "      <td>M</td>\n",
       "      <td>NORMAL</td>\n",
       "      <td>HIGH</td>\n",
       "      <td>9.894</td>\n",
       "      <td>drugX</td>\n",
       "    </tr>\n",
       "    <tr>\n",
       "      <th>198</th>\n",
       "      <td>23</td>\n",
       "      <td>M</td>\n",
       "      <td>NORMAL</td>\n",
       "      <td>NORMAL</td>\n",
       "      <td>14.020</td>\n",
       "      <td>drugX</td>\n",
       "    </tr>\n",
       "    <tr>\n",
       "      <th>199</th>\n",
       "      <td>40</td>\n",
       "      <td>F</td>\n",
       "      <td>LOW</td>\n",
       "      <td>NORMAL</td>\n",
       "      <td>11.349</td>\n",
       "      <td>drugX</td>\n",
       "    </tr>\n",
       "  </tbody>\n",
       "</table>\n",
       "<p>200 rows × 6 columns</p>\n",
       "</div>"
      ],
      "text/plain": [
       "     Age Sex      BP Cholesterol  Na_to_K   Drug\n",
       "0     23   F    HIGH        HIGH   25.355  drugY\n",
       "1     47   M     LOW        HIGH   13.093  drugC\n",
       "2     47   M     LOW        HIGH   10.114  drugC\n",
       "3     28   F  NORMAL        HIGH    7.798  drugX\n",
       "4     61   F     LOW        HIGH   18.043  drugY\n",
       "..   ...  ..     ...         ...      ...    ...\n",
       "195   56   F     LOW        HIGH   11.567  drugC\n",
       "196   16   M     LOW        HIGH   12.006  drugC\n",
       "197   52   M  NORMAL        HIGH    9.894  drugX\n",
       "198   23   M  NORMAL      NORMAL   14.020  drugX\n",
       "199   40   F     LOW      NORMAL   11.349  drugX\n",
       "\n",
       "[200 rows x 6 columns]"
      ]
     },
     "execution_count": 46,
     "metadata": {},
     "output_type": "execute_result"
    }
   ],
   "source": [
    "import pandas as pd\n",
    "data2=pd.read_csv(\"C:\\\\Users\\\\DELL\\\\Downloads\\\\4_Drug200.csv\")\n",
    "data2"
   ]
  },
  {
   "cell_type": "code",
   "execution_count": 47,
   "id": "3d6fc965-8d33-47e5-b6fd-abfb8f91deb4",
   "metadata": {},
   "outputs": [
    {
     "name": "stdout",
     "output_type": "stream",
     "text": [
      "Age                                                         8863\n",
      "Sex            FMMFFFFMMMFFMFFFMMMFMMMFFFMFFMFMMFMMMMFMFFMMFF...\n",
      "BP             HIGHLOWLOWNORMALLOWNORMALNORMALLOWNORMALLOWLOW...\n",
      "Cholesterol    HIGHHIGHHIGHHIGHHIGHHIGHHIGHHIGHHIGHNORMALHIGH...\n",
      "Na_to_K                                                 3216.897\n",
      "Drug           drugYdrugCdrugCdrugXdrugYdrugXdrugYdrugCdrugYd...\n",
      "dtype: object\n"
     ]
    }
   ],
   "source": [
    "print(data2.sum())"
   ]
  },
  {
   "cell_type": "code",
   "execution_count": 48,
   "id": "64ea3c7e-9668-41b5-a680-6ebc95658cf2",
   "metadata": {},
   "outputs": [
    {
     "name": "stdout",
     "output_type": "stream",
     "text": [
      "      Age                                                Sex  \\\n",
      "0      23                                                  F   \n",
      "1      70                                                 FM   \n",
      "2     117                                                FMM   \n",
      "3     145                                               FMMF   \n",
      "4     206                                              FMMFF   \n",
      "..    ...                                                ...   \n",
      "195  8732  FMMFFFFMMMFFMFFFMMMFMMMFFFMFFMFMMFMMMMFMFFMMFF...   \n",
      "196  8748  FMMFFFFMMMFFMFFFMMMFMMMFFFMFFMFMMFMMMMFMFFMMFF...   \n",
      "197  8800  FMMFFFFMMMFFMFFFMMMFMMMFFFMFFMFMMFMMMMFMFFMMFF...   \n",
      "198  8823  FMMFFFFMMMFFMFFFMMMFMMMFFFMFFMFMMFMMMMFMFFMMFF...   \n",
      "199  8863  FMMFFFFMMMFFMFFFMMMFMMMFFFMFFMFMMFMMMMFMFFMMFF...   \n",
      "\n",
      "                                                    BP  \\\n",
      "0                                                 HIGH   \n",
      "1                                              HIGHLOW   \n",
      "2                                           HIGHLOWLOW   \n",
      "3                                     HIGHLOWLOWNORMAL   \n",
      "4                                  HIGHLOWLOWNORMALLOW   \n",
      "..                                                 ...   \n",
      "195  HIGHLOWLOWNORMALLOWNORMALNORMALLOWNORMALLOWLOW...   \n",
      "196  HIGHLOWLOWNORMALLOWNORMALNORMALLOWNORMALLOWLOW...   \n",
      "197  HIGHLOWLOWNORMALLOWNORMALNORMALLOWNORMALLOWLOW...   \n",
      "198  HIGHLOWLOWNORMALLOWNORMALNORMALLOWNORMALLOWLOW...   \n",
      "199  HIGHLOWLOWNORMALLOWNORMALNORMALLOWNORMALLOWLOW...   \n",
      "\n",
      "                                           Cholesterol   Na_to_K  \\\n",
      "0                                                 HIGH    25.355   \n",
      "1                                             HIGHHIGH    38.448   \n",
      "2                                         HIGHHIGHHIGH    48.562   \n",
      "3                                     HIGHHIGHHIGHHIGH    56.360   \n",
      "4                                 HIGHHIGHHIGHHIGHHIGH    74.403   \n",
      "..                                                 ...       ...   \n",
      "195  HIGHHIGHHIGHHIGHHIGHHIGHHIGHHIGHHIGHNORMALHIGH...  3169.628   \n",
      "196  HIGHHIGHHIGHHIGHHIGHHIGHHIGHHIGHHIGHNORMALHIGH...  3181.634   \n",
      "197  HIGHHIGHHIGHHIGHHIGHHIGHHIGHHIGHHIGHNORMALHIGH...  3191.528   \n",
      "198  HIGHHIGHHIGHHIGHHIGHHIGHHIGHHIGHHIGHNORMALHIGH...  3205.548   \n",
      "199  HIGHHIGHHIGHHIGHHIGHHIGHHIGHHIGHHIGHNORMALHIGH...  3216.897   \n",
      "\n",
      "                                                  Drug  \n",
      "0                                                drugY  \n",
      "1                                           drugYdrugC  \n",
      "2                                      drugYdrugCdrugC  \n",
      "3                                 drugYdrugCdrugCdrugX  \n",
      "4                            drugYdrugCdrugCdrugXdrugY  \n",
      "..                                                 ...  \n",
      "195  drugYdrugCdrugCdrugXdrugYdrugXdrugYdrugCdrugYd...  \n",
      "196  drugYdrugCdrugCdrugXdrugYdrugXdrugYdrugCdrugYd...  \n",
      "197  drugYdrugCdrugCdrugXdrugYdrugXdrugYdrugCdrugYd...  \n",
      "198  drugYdrugCdrugCdrugXdrugYdrugXdrugYdrugCdrugYd...  \n",
      "199  drugYdrugCdrugCdrugXdrugYdrugXdrugYdrugCdrugYd...  \n",
      "\n",
      "[200 rows x 6 columns]\n"
     ]
    }
   ],
   "source": [
    "print(data2.cumsum())"
   ]
  },
  {
   "cell_type": "code",
   "execution_count": 49,
   "id": "e62e3d4e-cbbe-4c85-b9d9-1dc4efe988e0",
   "metadata": {},
   "outputs": [
    {
     "name": "stdout",
     "output_type": "stream",
     "text": [
      "Age            200\n",
      "Sex            200\n",
      "BP             200\n",
      "Cholesterol    200\n",
      "Na_to_K        200\n",
      "Drug           200\n",
      "dtype: int64\n"
     ]
    }
   ],
   "source": [
    "print(data2.count())"
   ]
  },
  {
   "cell_type": "code",
   "execution_count": 50,
   "id": "a3ae0836-d39c-4375-911e-a0d4d63a8e76",
   "metadata": {},
   "outputs": [
    {
     "name": "stdout",
     "output_type": "stream",
     "text": [
      "Age               15\n",
      "Sex                F\n",
      "BP              HIGH\n",
      "Cholesterol     HIGH\n",
      "Na_to_K        6.269\n",
      "Drug           drugA\n",
      "dtype: object\n"
     ]
    }
   ],
   "source": [
    "print(data2.min())"
   ]
  },
  {
   "cell_type": "code",
   "execution_count": 51,
   "id": "b9a7c428-d725-4e2e-8a84-fc642bf99e4c",
   "metadata": {},
   "outputs": [
    {
     "name": "stdout",
     "output_type": "stream",
     "text": [
      "Age                74\n",
      "Sex                 M\n",
      "BP             NORMAL\n",
      "Cholesterol    NORMAL\n",
      "Na_to_K        38.247\n",
      "Drug            drugY\n",
      "dtype: object\n"
     ]
    }
   ],
   "source": [
    "print(data2.max())"
   ]
  },
  {
   "cell_type": "code",
   "execution_count": 52,
   "id": "0b311ded-6ec2-4fcc-a567-bcc5dd4a5cad",
   "metadata": {},
   "outputs": [
    {
     "data": {
      "text/html": [
       "<div>\n",
       "<style scoped>\n",
       "    .dataframe tbody tr th:only-of-type {\n",
       "        vertical-align: middle;\n",
       "    }\n",
       "\n",
       "    .dataframe tbody tr th {\n",
       "        vertical-align: top;\n",
       "    }\n",
       "\n",
       "    .dataframe thead th {\n",
       "        text-align: right;\n",
       "    }\n",
       "</style>\n",
       "<table border=\"1\" class=\"dataframe\">\n",
       "  <thead>\n",
       "    <tr style=\"text-align: right;\">\n",
       "      <th></th>\n",
       "      <th>Age</th>\n",
       "      <th>Sex</th>\n",
       "      <th>BP</th>\n",
       "      <th>Cholesterol</th>\n",
       "      <th>Na_to_K</th>\n",
       "      <th>Drug</th>\n",
       "    </tr>\n",
       "  </thead>\n",
       "  <tbody>\n",
       "    <tr>\n",
       "      <th>0</th>\n",
       "      <td>23</td>\n",
       "      <td>F</td>\n",
       "      <td>2</td>\n",
       "      <td>2</td>\n",
       "      <td>25.355</td>\n",
       "      <td>drugY</td>\n",
       "    </tr>\n",
       "    <tr>\n",
       "      <th>1</th>\n",
       "      <td>47</td>\n",
       "      <td>M</td>\n",
       "      <td>0</td>\n",
       "      <td>2</td>\n",
       "      <td>13.093</td>\n",
       "      <td>drugC</td>\n",
       "    </tr>\n",
       "    <tr>\n",
       "      <th>2</th>\n",
       "      <td>47</td>\n",
       "      <td>M</td>\n",
       "      <td>0</td>\n",
       "      <td>2</td>\n",
       "      <td>10.114</td>\n",
       "      <td>drugC</td>\n",
       "    </tr>\n",
       "    <tr>\n",
       "      <th>3</th>\n",
       "      <td>28</td>\n",
       "      <td>F</td>\n",
       "      <td>1</td>\n",
       "      <td>2</td>\n",
       "      <td>7.798</td>\n",
       "      <td>drugX</td>\n",
       "    </tr>\n",
       "    <tr>\n",
       "      <th>4</th>\n",
       "      <td>61</td>\n",
       "      <td>F</td>\n",
       "      <td>0</td>\n",
       "      <td>2</td>\n",
       "      <td>18.043</td>\n",
       "      <td>drugY</td>\n",
       "    </tr>\n",
       "    <tr>\n",
       "      <th>...</th>\n",
       "      <td>...</td>\n",
       "      <td>...</td>\n",
       "      <td>...</td>\n",
       "      <td>...</td>\n",
       "      <td>...</td>\n",
       "      <td>...</td>\n",
       "    </tr>\n",
       "    <tr>\n",
       "      <th>195</th>\n",
       "      <td>56</td>\n",
       "      <td>F</td>\n",
       "      <td>0</td>\n",
       "      <td>2</td>\n",
       "      <td>11.567</td>\n",
       "      <td>drugC</td>\n",
       "    </tr>\n",
       "    <tr>\n",
       "      <th>196</th>\n",
       "      <td>16</td>\n",
       "      <td>M</td>\n",
       "      <td>0</td>\n",
       "      <td>2</td>\n",
       "      <td>12.006</td>\n",
       "      <td>drugC</td>\n",
       "    </tr>\n",
       "    <tr>\n",
       "      <th>197</th>\n",
       "      <td>52</td>\n",
       "      <td>M</td>\n",
       "      <td>1</td>\n",
       "      <td>2</td>\n",
       "      <td>9.894</td>\n",
       "      <td>drugX</td>\n",
       "    </tr>\n",
       "    <tr>\n",
       "      <th>198</th>\n",
       "      <td>23</td>\n",
       "      <td>M</td>\n",
       "      <td>1</td>\n",
       "      <td>1</td>\n",
       "      <td>14.020</td>\n",
       "      <td>drugX</td>\n",
       "    </tr>\n",
       "    <tr>\n",
       "      <th>199</th>\n",
       "      <td>40</td>\n",
       "      <td>F</td>\n",
       "      <td>0</td>\n",
       "      <td>1</td>\n",
       "      <td>11.349</td>\n",
       "      <td>drugX</td>\n",
       "    </tr>\n",
       "  </tbody>\n",
       "</table>\n",
       "<p>200 rows × 6 columns</p>\n",
       "</div>"
      ],
      "text/plain": [
       "     Age Sex  BP  Cholesterol  Na_to_K   Drug\n",
       "0     23   F   2            2   25.355  drugY\n",
       "1     47   M   0            2   13.093  drugC\n",
       "2     47   M   0            2   10.114  drugC\n",
       "3     28   F   1            2    7.798  drugX\n",
       "4     61   F   0            2   18.043  drugY\n",
       "..   ...  ..  ..          ...      ...    ...\n",
       "195   56   F   0            2   11.567  drugC\n",
       "196   16   M   0            2   12.006  drugC\n",
       "197   52   M   1            2    9.894  drugX\n",
       "198   23   M   1            1   14.020  drugX\n",
       "199   40   F   0            1   11.349  drugX\n",
       "\n",
       "[200 rows x 6 columns]"
      ]
     },
     "execution_count": 52,
     "metadata": {},
     "output_type": "execute_result"
    }
   ],
   "source": [
    "#Changing High, Normal and Low to 2, 1 and 0 respectively...\n",
    "BP = {\"BP\":{\"LOW\":0,\"NORMAL\":1,\"HIGH\":2}}\n",
    "data2 = data2.replace(BP)\n",
    "Cholesterol = {\"Cholesterol\":{\"LOW\":0,\"NORMAL\":1,\"HIGH\":2}}\n",
    "data2 = data2.replace(Cholesterol)\n",
    "data2"
   ]
  },
  {
   "cell_type": "code",
   "execution_count": 59,
   "id": "f0ef7675-11e1-4f27-b0bd-436329a7559a",
   "metadata": {},
   "outputs": [],
   "source": [
    "new_data2 = data2.drop([\"Drug\",\"Sex\"],axis=1)"
   ]
  },
  {
   "cell_type": "code",
   "execution_count": 60,
   "id": "c509bc7a-3947-4d9b-9c75-17073ae46592",
   "metadata": {},
   "outputs": [
    {
     "name": "stdout",
     "output_type": "stream",
     "text": [
      "Age            44.315000\n",
      "BP              1.065000\n",
      "Cholesterol     1.515000\n",
      "Na_to_K        16.084485\n",
      "dtype: float64\n"
     ]
    }
   ],
   "source": [
    "print(new_data2.mean())"
   ]
  },
  {
   "cell_type": "code",
   "execution_count": 63,
   "id": "8da2bf64-fe66-4a24-8fd7-555ce06e0ee1",
   "metadata": {},
   "outputs": [
    {
     "name": "stdout",
     "output_type": "stream",
     "text": [
      "    Age   BP  Cholesterol  Na_to_K\n",
      "0  47.0  2.0          2.0   12.006\n",
      "1   NaN  NaN          NaN   18.295\n"
     ]
    }
   ],
   "source": [
    "print(new_data2.mode())"
   ]
  },
  {
   "cell_type": "code",
   "execution_count": 64,
   "id": "97536078-1d15-4784-b988-311c29b6a22c",
   "metadata": {},
   "outputs": [
    {
     "name": "stdout",
     "output_type": "stream",
     "text": [
      "Age            45.0000\n",
      "BP              1.0000\n",
      "Cholesterol     2.0000\n",
      "Na_to_K        13.9365\n",
      "dtype: float64\n"
     ]
    }
   ],
   "source": [
    "print(new_data2.median())"
   ]
  },
  {
   "cell_type": "code",
   "execution_count": 65,
   "id": "a27a3a02-cfd7-46f1-8f14-3872b3a85ae2",
   "metadata": {},
   "outputs": [
    {
     "name": "stdout",
     "output_type": "stream",
     "text": [
      "              Age          BP  Cholesterol     Na_to_K\n",
      "count  200.000000  200.000000   200.000000  200.000000\n",
      "mean    44.315000    1.065000     1.515000   16.084485\n",
      "std     16.544315    0.839224     0.501029    7.223956\n",
      "min     15.000000    0.000000     1.000000    6.269000\n",
      "25%     31.000000    0.000000     1.000000   10.445500\n",
      "50%     45.000000    1.000000     2.000000   13.936500\n",
      "75%     58.000000    2.000000     2.000000   19.380000\n",
      "max     74.000000    2.000000     2.000000   38.247000\n"
     ]
    }
   ],
   "source": [
    "print(new_data2.describe())"
   ]
  },
  {
   "cell_type": "code",
   "execution_count": 60,
   "id": "01e209c4-fcc9-4d02-b615-5f0806f3c4cb",
   "metadata": {},
   "outputs": [],
   "source": [
    "from numpy import cov"
   ]
  },
  {
   "cell_type": "code",
   "execution_count": 67,
   "id": "4ec16f15-fa6b-4692-859c-6f467a9daa75",
   "metadata": {},
   "outputs": [
    {
     "name": "stdout",
     "output_type": "stream",
     "text": [
      "0      23\n",
      "1      47\n",
      "2      47\n",
      "3      28\n",
      "4      61\n",
      "       ..\n",
      "195    56\n",
      "196    16\n",
      "197    52\n",
      "198    23\n",
      "199    40\n",
      "Name: Age, Length: 200, dtype: int64\n",
      "0      2\n",
      "1      2\n",
      "2      2\n",
      "3      2\n",
      "4      2\n",
      "      ..\n",
      "195    2\n",
      "196    2\n",
      "197    2\n",
      "198    1\n",
      "199    1\n",
      "Name: Cholesterol, Length: 200, dtype: int64\n"
     ]
    }
   ],
   "source": [
    "data3=data2.Age\n",
    "data4=data2.Cholesterol\n",
    "print(data3)\n",
    "print(data4)"
   ]
  },
  {
   "cell_type": "code",
   "execution_count": 68,
   "id": "675bf132-62f6-4865-9297-19e329c33528",
   "metadata": {},
   "outputs": [
    {
     "name": "stdout",
     "output_type": "stream",
     "text": [
      "[[2.73714347e+02 5.65603015e-01]\n",
      " [5.65603015e-01 2.51030151e-01]]\n"
     ]
    }
   ],
   "source": [
    "covariance=cov(data3,data4)\n",
    "print(covariance)"
   ]
  },
  {
   "cell_type": "code",
   "execution_count": 70,
   "id": "1d3c6281-733f-4e38-aa72-78d65792b99e",
   "metadata": {},
   "outputs": [
    {
     "name": "stdout",
     "output_type": "stream",
     "text": [
      "0.06823386810675444\n"
     ]
    }
   ],
   "source": [
    "#correlation\n",
    "from scipy.stats import pearsonr\n",
    "data3=data2.Age\n",
    "data4=data2.Cholesterol\n",
    "corr,_=pearsonr(data3,data4)\n",
    "print(corr)"
   ]
  },
  {
   "cell_type": "code",
   "execution_count": 73,
   "id": "588f167c-fc84-4e97-8278-69613613a7ec",
   "metadata": {},
   "outputs": [
    {
     "name": "stdout",
     "output_type": "stream",
     "text": [
      "0.06823386810675444\n"
     ]
    }
   ],
   "source": [
    "#correlation\n",
    "from scipy.stats import pearsonr\n",
    "data3=data2.Age\n",
    "data4=data2.Cholesterol\n",
    "corr,_=pearsonr(data3,data4)\n",
    "print(corr)"
   ]
  },
  {
   "cell_type": "code",
   "execution_count": null,
   "id": "12aa982a-77a3-451e-830b-d574ecfc25af",
   "metadata": {},
   "outputs": [],
   "source": []
  }
 ],
 "metadata": {
  "kernelspec": {
   "display_name": "Python 3 (ipykernel)",
   "language": "python",
   "name": "python3"
  },
  "language_info": {
   "codemirror_mode": {
    "name": "ipython",
    "version": 3
   },
   "file_extension": ".py",
   "mimetype": "text/x-python",
   "name": "python",
   "nbconvert_exporter": "python",
   "pygments_lexer": "ipython3",
   "version": "3.11.5"
  }
 },
 "nbformat": 4,
 "nbformat_minor": 5
}
